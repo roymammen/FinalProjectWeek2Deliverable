{
 "cells": [
  {
   "cell_type": "code",
   "execution_count": 1,
   "metadata": {},
   "outputs": [],
   "source": [
    "# Dependencies and Setup\n",
    "import pandas as pd"
   ]
  },
  {
   "cell_type": "code",
   "execution_count": 10,
   "metadata": {},
   "outputs": [],
   "source": [
    "# !pip install chart_studio\n",
    "# !pip install matplotlib\n",
    "# !pip install plotly\n",
    "# !pip install numpy\n",
    "# !pip install seaborn"
   ]
  },
  {
   "cell_type": "code",
   "execution_count": 11,
   "metadata": {},
   "outputs": [],
   "source": [
    "import numpy as np\n",
    "import seaborn as sns\n",
    "import matplotlib as mpl\n",
    "import matplotlib.pyplot as plt\n",
    "\n",
    "\n",
    "import plotly.tools as tls\n",
    "import plotly as py\n",
    "import plotly.graph_objs as go\n",
    "from plotly.offline import download_plotlyjs, init_notebook_mode, plot, iplot\n",
    "import plotly.express as px\n",
    "import seaborn as sns \n",
    "from chart_studio import plotly as py\n",
    "from plotly.offline import iplot\n",
    "\n",
    "%matplotlib inline"
   ]
  },
  {
   "cell_type": "code",
   "execution_count": 2,
   "metadata": {},
   "outputs": [
    {
     "data": {
      "text/html": [
       "<div>\n",
       "<style scoped>\n",
       "    .dataframe tbody tr th:only-of-type {\n",
       "        vertical-align: middle;\n",
       "    }\n",
       "\n",
       "    .dataframe tbody tr th {\n",
       "        vertical-align: top;\n",
       "    }\n",
       "\n",
       "    .dataframe thead th {\n",
       "        text-align: right;\n",
       "    }\n",
       "</style>\n",
       "<table border=\"1\" class=\"dataframe\">\n",
       "  <thead>\n",
       "    <tr style=\"text-align: right;\">\n",
       "      <th></th>\n",
       "      <th>AvgTemperature</th>\n",
       "      <th>Population</th>\n",
       "      <th>lat</th>\n",
       "      <th>lon</th>\n",
       "      <th>Wk avg 1-hour SO2 Conc ppb</th>\n",
       "      <th>Wk avg PM10 Conc ug/m3 SC</th>\n",
       "      <th>Wk avg PM2.5 Conc ug/m3 LC</th>\n",
       "      <th>Wk avg NO2 Conc</th>\n",
       "    </tr>\n",
       "  </thead>\n",
       "  <tbody>\n",
       "    <tr>\n",
       "      <th>count</th>\n",
       "      <td>1045.000000</td>\n",
       "      <td>1.045000e+03</td>\n",
       "      <td>1.045000e+03</td>\n",
       "      <td>1.045000e+03</td>\n",
       "      <td>1045.000000</td>\n",
       "      <td>1045.000000</td>\n",
       "      <td>1045.000000</td>\n",
       "      <td>1045.000000</td>\n",
       "    </tr>\n",
       "    <tr>\n",
       "      <th>mean</th>\n",
       "      <td>62.855254</td>\n",
       "      <td>1.214150e+07</td>\n",
       "      <td>3.413650e+01</td>\n",
       "      <td>-1.179239e+02</td>\n",
       "      <td>3.033143</td>\n",
       "      <td>27.846165</td>\n",
       "      <td>14.590701</td>\n",
       "      <td>35.391611</td>\n",
       "    </tr>\n",
       "    <tr>\n",
       "      <th>std</th>\n",
       "      <td>5.388299</td>\n",
       "      <td>2.081797e+05</td>\n",
       "      <td>3.625503e-13</td>\n",
       "      <td>1.521290e-12</td>\n",
       "      <td>2.020679</td>\n",
       "      <td>8.676366</td>\n",
       "      <td>5.958714</td>\n",
       "      <td>11.680043</td>\n",
       "    </tr>\n",
       "    <tr>\n",
       "      <th>min</th>\n",
       "      <td>50.128571</td>\n",
       "      <td>1.179800e+07</td>\n",
       "      <td>3.413650e+01</td>\n",
       "      <td>-1.179239e+02</td>\n",
       "      <td>0.200000</td>\n",
       "      <td>6.931034</td>\n",
       "      <td>5.214912</td>\n",
       "      <td>12.969672</td>\n",
       "    </tr>\n",
       "    <tr>\n",
       "      <th>25%</th>\n",
       "      <td>58.700000</td>\n",
       "      <td>1.197800e+07</td>\n",
       "      <td>3.413650e+01</td>\n",
       "      <td>-1.179239e+02</td>\n",
       "      <td>1.476190</td>\n",
       "      <td>22.130435</td>\n",
       "      <td>10.623529</td>\n",
       "      <td>26.818966</td>\n",
       "    </tr>\n",
       "    <tr>\n",
       "      <th>50%</th>\n",
       "      <td>62.600000</td>\n",
       "      <td>1.216000e+07</td>\n",
       "      <td>3.413650e+01</td>\n",
       "      <td>-1.179239e+02</td>\n",
       "      <td>2.402439</td>\n",
       "      <td>28.098039</td>\n",
       "      <td>13.320690</td>\n",
       "      <td>34.871569</td>\n",
       "    </tr>\n",
       "    <tr>\n",
       "      <th>75%</th>\n",
       "      <td>66.914286</td>\n",
       "      <td>1.234500e+07</td>\n",
       "      <td>3.413650e+01</td>\n",
       "      <td>-1.179239e+02</td>\n",
       "      <td>4.162162</td>\n",
       "      <td>33.000000</td>\n",
       "      <td>16.900000</td>\n",
       "      <td>42.584615</td>\n",
       "    </tr>\n",
       "    <tr>\n",
       "      <th>max</th>\n",
       "      <td>78.357143</td>\n",
       "      <td>1.245800e+07</td>\n",
       "      <td>3.413650e+01</td>\n",
       "      <td>-1.179239e+02</td>\n",
       "      <td>13.369565</td>\n",
       "      <td>91.090909</td>\n",
       "      <td>64.045946</td>\n",
       "      <td>88.660870</td>\n",
       "    </tr>\n",
       "  </tbody>\n",
       "</table>\n",
       "</div>"
      ],
      "text/plain": [
       "       AvgTemperature    Population           lat           lon  \\\n",
       "count     1045.000000  1.045000e+03  1.045000e+03  1.045000e+03   \n",
       "mean        62.855254  1.214150e+07  3.413650e+01 -1.179239e+02   \n",
       "std          5.388299  2.081797e+05  3.625503e-13  1.521290e-12   \n",
       "min         50.128571  1.179800e+07  3.413650e+01 -1.179239e+02   \n",
       "25%         58.700000  1.197800e+07  3.413650e+01 -1.179239e+02   \n",
       "50%         62.600000  1.216000e+07  3.413650e+01 -1.179239e+02   \n",
       "75%         66.914286  1.234500e+07  3.413650e+01 -1.179239e+02   \n",
       "max         78.357143  1.245800e+07  3.413650e+01 -1.179239e+02   \n",
       "\n",
       "       Wk avg 1-hour SO2 Conc ppb  Wk avg PM10 Conc ug/m3 SC  \\\n",
       "count                 1045.000000                1045.000000   \n",
       "mean                     3.033143                  27.846165   \n",
       "std                      2.020679                   8.676366   \n",
       "min                      0.200000                   6.931034   \n",
       "25%                      1.476190                  22.130435   \n",
       "50%                      2.402439                  28.098039   \n",
       "75%                      4.162162                  33.000000   \n",
       "max                     13.369565                  91.090909   \n",
       "\n",
       "       Wk avg PM2.5 Conc ug/m3 LC  Wk avg NO2 Conc  \n",
       "count                 1045.000000      1045.000000  \n",
       "mean                    14.590701        35.391611  \n",
       "std                      5.958714        11.680043  \n",
       "min                      5.214912        12.969672  \n",
       "25%                     10.623529        26.818966  \n",
       "50%                     13.320690        34.871569  \n",
       "75%                     16.900000        42.584615  \n",
       "max                     64.045946        88.660870  "
      ]
     },
     "execution_count": 2,
     "metadata": {},
     "output_type": "execute_result"
    }
   ],
   "source": [
    "# File to Load (Remember to change the path if needed.)\n",
    "lax_clean_file_name2load = \"./Resources/output/lax_temp_fin_rs_ml.csv\"\n",
    "\n",
    "# Read the School Data and Student Data and store into a Pandas DataFrame\n",
    "lax_temp_fin_rs_ml_df = pd.read_csv(lax_clean_file_name2load)\n",
    "lax_temp_fin_rs_ml_df.describe()"
   ]
  },
  {
   "cell_type": "code",
   "execution_count": 24,
   "metadata": {},
   "outputs": [],
   "source": [
    "from sklearn.model_selection import train_test_split\n",
    "from sklearn.ensemble import RandomForestRegressor\n",
    "import matplotlib.pyplot as plt\n",
    "import numpy as np\n",
    "# X = lax_temp_fin_rs_ml_df[['Population','lat','lon','Wk avg 1-hour SO2 Conc ppb','Wk avg PM10 Conc ug/m3 SC','Wk avg PM2.5 Conc ug/m3 LC','Wk avg NO2 Conc','Wk avg 8-hour CO Conc']]\n",
    "X = lax_temp_fin_rs_ml_df[['Population','lat','lon','Wk avg 1-hour SO2 Conc ppb','Wk avg PM10 Conc ug/m3 SC','Wk avg PM2.5 Conc ug/m3 LC','Wk avg NO2 Conc']]\n",
    "y = lax_temp_fin_rs_ml_df['AvgTemperature']"
   ]
  },
  {
   "cell_type": "code",
   "execution_count": 25,
   "metadata": {},
   "outputs": [
    {
     "data": {
      "text/plain": [
       "RandomForestRegressor()"
      ]
     },
     "execution_count": 25,
     "metadata": {},
     "output_type": "execute_result"
    }
   ],
   "source": [
    "X_train, X_test, y_train, y_test = train_test_split(X, y, train_size=0.8, random_state=1)\n",
    "# mdl = LogisticRegression(max_iter=10000)\n",
    "# mdl.fit(X_train, y_train)\n",
    "# print(f\"Training Data Score: {mdl.score(X_train, y_train)}\")\n",
    "# print(f\"Testing Data Score: {mdl.score(X_test, y_test)}\")\n",
    "rf = RandomForestRegressor()\n",
    "rf.fit(X_train,y_train)"
   ]
  },
  {
   "cell_type": "code",
   "execution_count": 26,
   "metadata": {},
   "outputs": [
    {
     "data": {
      "text/plain": [
       "<matplotlib.collections.PathCollection at 0x280479caeb0>"
      ]
     },
     "execution_count": 26,
     "metadata": {},
     "output_type": "execute_result"
    },
    {
     "data": {
      "image/png": "[encoded data removed]",
      "text/plain": [
       "<Figure size 432x288 with 1 Axes>"
      ]
     },
     "metadata": {
      "needs_background": "light"
     },
     "output_type": "display_data"
    }
   ],
   "source": [
    "pred_rf = rf.predict(X_test)\n",
    "plt.scatter(y_test, pred_rf)"
   ]
  },
  {
   "cell_type": "code",
   "execution_count": 27,
   "metadata": {},
   "outputs": [
    {
     "name": "stdout",
     "output_type": "stream",
     "text": [
      "Training Data Score: 0.9222301181798322\n",
      "Testing Data Score: 0.49492397132614396\n"
     ]
    }
   ],
   "source": [
    "print(f\"Training Data Score: {rf.score(X_train, y_train)}\")\n",
    "print(f\"Testing Data Score: {rf.score(X_test, y_test)}\")"
   ]
  },
  {
   "cell_type": "code",
   "execution_count": null,
   "metadata": {},
   "outputs": [],
   "source": []
  }
 ],
 "metadata": {
  "anaconda-cloud": {},
  "kernel_info": {
   "name": "python3"
  },
  "kernelspec": {
   "display_name": "PythonData",
   "language": "python",
   "name": "pythondata"
  },
  "language_info": {
   "codemirror_mode": {
    "name": "ipython",
    "version": 3
   },
   "file_extension": ".py",
   "mimetype": "text/x-python",
   "name": "python",
   "nbconvert_exporter": "python",
   "pygments_lexer": "ipython3",
   "version": "3.8.8"
  },
  "nteract": {
   "version": "0.8.4"
  }
 },
 "nbformat": 4,
 "nbformat_minor": 1
}
